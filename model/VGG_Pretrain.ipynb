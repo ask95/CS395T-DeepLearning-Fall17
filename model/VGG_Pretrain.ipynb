{
 "cells": [
  {
   "cell_type": "code",
   "execution_count": 7,
   "metadata": {},
   "outputs": [
    {
     "name": "stderr",
     "output_type": "stream",
     "text": [
      "Using TensorFlow backend.\n"
     ]
    }
   ],
   "source": [
    "import keras\n",
    "from keras.preprocessing.image import ImageDataGenerator\n",
    "from keras.layers import Conv2D, MaxPooling2D, Dense, BatchNormalization, Dropout, Flatten, Activation\n",
    "from keras.layers.convolutional import ZeroPadding2D\n",
    "from keras.models import Sequential\n",
    "from keras.optimizers import Adam\n",
    "from keras.regularizers import l2\n",
    "from keras.layers.core import Lambda\n",
    "from keras import initializers\n",
    "from keras.utils import get_file\n",
    "import tensorflow as tf\n",
    "import numpy as np\n",
    "import os"
   ]
  },
  {
   "cell_type": "code",
   "execution_count": 8,
   "metadata": {
    "collapsed": true
   },
   "outputs": [],
   "source": [
    "path = '/work/04381/ymarathe/maverick/yearbook/keras_yearbook/'"
   ]
  },
  {
   "cell_type": "code",
   "execution_count": 25,
   "metadata": {
    "collapsed": true
   },
   "outputs": [],
   "source": [
    "def gen_batches(path, gen = ImageDataGenerator(), shuffle=True, class_mode=\"categorical\", batch_size=32, \n",
    "                target_size=(171, 186)):\n",
    "    return gen.flow_from_directory(path, shuffle=shuffle, batch_size=batch_size, target_size=target_size, \n",
    "                                   class_mode=class_mode)\n",
    "\n",
    "def gen_batches_flow(path, gen = ImageDataGenerator(), shuffle=True, batch_size=32):\n",
    "    return gen.flow(path, shuffle=shuffle, batch_size=batch_size)"
   ]
  },
  {
   "cell_type": "code",
   "execution_count": 10,
   "metadata": {},
   "outputs": [
    {
     "name": "stdout",
     "output_type": "stream",
     "text": [
      "Found 12149 images belonging to 104 classes.\n"
     ]
    }
   ],
   "source": [
    "female_train = gen_batches(path + 'train/F')"
   ]
  },
  {
   "cell_type": "code",
   "execution_count": 11,
   "metadata": {},
   "outputs": [
    {
     "name": "stdout",
     "output_type": "stream",
     "text": [
      "Found 10691 images belonging to 104 classes.\n"
     ]
    }
   ],
   "source": [
    "male_train = gen_batches(path + 'train/M')"
   ]
  },
  {
   "cell_type": "code",
   "execution_count": 12,
   "metadata": {},
   "outputs": [
    {
     "name": "stdout",
     "output_type": "stream",
     "text": [
      "Found 2797 images belonging to 104 classes.\n"
     ]
    }
   ],
   "source": [
    "female_valid = gen_batches(path + 'valid/F')"
   ]
  },
  {
   "cell_type": "code",
   "execution_count": 13,
   "metadata": {},
   "outputs": [
    {
     "name": "stdout",
     "output_type": "stream",
     "text": [
      "Found 2212 images belonging to 104 classes.\n"
     ]
    }
   ],
   "source": [
    "male_valid = gen_batches(path + 'valid/M')\n"
   ]
  },
  {
   "cell_type": "code",
   "execution_count": 14,
   "metadata": {},
   "outputs": [],
   "source": [
    "def vgg19_conv_layers_sequential_bn():\n",
    "    #Not possible, because ALL the weights will change\n",
    "    model = Sequential()\n",
    "        \n",
    "    model.add(ZeroPadding2D((1, 1), input_shape=(171, 186, 3)))\n",
    "    model.add(Conv2D(64, (3, 3)))\n",
    "    model.add(BatchNormalization())\n",
    "    model.add(Activation('relu'))\n",
    "    model.add(ZeroPadding2D((1, 1)))\n",
    "    model.add(Conv2D(64, (3, 3)))\n",
    "    model.add(BatchNormalization())\n",
    "    model.add(Activation('relu'))\n",
    "\n",
    "    model.add(MaxPooling2D((2, 2), strides = (2, 2)))\n",
    "    model.add(ZeroPadding2D((1, 1)))\n",
    "    model.add(Conv2D(128, (3, 3)))\n",
    "    model.add(BatchNormalization())\n",
    "    model.add(Activation('relu'))\n",
    "    model.add(ZeroPadding2D((1, 1)))\n",
    "    model.add(Conv2D(128, (3, 3)))\n",
    "    model.add(BatchNormalization())\n",
    "    model.add(Activation('relu'))\n",
    "    model.add(MaxPooling2D((2, 2), strides = (2, 2)))\n",
    "\n",
    "    model.add(ZeroPadding2D((1, 1)))\n",
    "    model.add(Conv2D(256, (3, 3)))\n",
    "    model.add(BatchNormalization())\n",
    "    model.add(Activation('relu'))\n",
    "    model.add(ZeroPadding2D((1, 1)))\n",
    "    model.add(Conv2D(256, (3, 3)))\n",
    "    model.add(BatchNormalization())\n",
    "    model.add(Activation('relu'))\n",
    "    model.add(ZeroPadding2D((1, 1)))\n",
    "    model.add(Conv2D(256, (3, 3)))\n",
    "    model.add(BatchNormalization())\n",
    "    model.add(Activation('relu'))\n",
    "    model.add(ZeroPadding2D((1, 1)))\n",
    "    model.add(Conv2D(256, (3, 3)))\n",
    "    model.add(BatchNormalization())\n",
    "    model.add(Activation('relu'))\n",
    "    model.add(MaxPooling2D((2, 2), strides = (2, 2)))\n",
    "\n",
    "    model.add(ZeroPadding2D((1, 1)))\n",
    "    model.add(Conv2D(512, (3, 3)))\n",
    "    model.add(BatchNormalization())\n",
    "    model.add(Activation('relu'))\n",
    "    model.add(ZeroPadding2D((1, 1)))\n",
    "    model.add(Conv2D(512, (3, 3)))\n",
    "    model.add(BatchNormalization())\n",
    "    model.add(Activation('relu'))\n",
    "    model.add(ZeroPadding2D((1, 1)))\n",
    "    model.add(Conv2D(512, (3, 3)))\n",
    "    model.add(BatchNormalization())\n",
    "    model.add(Activation('relu'))\n",
    "    model.add(ZeroPadding2D((1, 1)))\n",
    "    model.add(Conv2D(512, (3, 3)))\n",
    "    model.add(BatchNormalization())\n",
    "    model.add(Activation('relu'))\n",
    "    model.add(MaxPooling2D((2, 2), strides = (2, 2)))\n",
    "\n",
    "    model.add(ZeroPadding2D((1, 1)))\n",
    "    model.add(Conv2D(512, (3, 3)))\n",
    "    model.add(BatchNormalization())\n",
    "    model.add(Activation('relu'))\n",
    "    model.add(ZeroPadding2D((1, 1)))\n",
    "    model.add(Conv2D(512, (3, 3)))\n",
    "    model.add(BatchNormalization())\n",
    "    model.add(Activation('relu'))\n",
    "    model.add(ZeroPadding2D((1, 1)))\n",
    "    model.add(Conv2D(512, (3, 3)))\n",
    "    model.add(BatchNormalization())\n",
    "    model.add(Activation('relu'))\n",
    "    model.add(ZeroPadding2D((1, 1)))\n",
    "    model.add(Conv2D(512, (3, 3)))\n",
    "    model.add(BatchNormalization())\n",
    "    model.add(Activation('relu'))\n",
    "    model.add(MaxPooling2D((2, 2), strides = (2, 2)))\n",
    "    \n",
    "    vgg_pretrain_weights = get_file('vgg19_weights_tf_dim_ordering_tf_kernels_notop.h5',\n",
    "                                    \"https://github.com/fchollet/deep-learning-models/releases/download/v0.1/vgg19_weights_tf_dim_ordering_tf_kernels_notop.h5\",\n",
    "                                    cache_subdir='models')\n",
    "    \n",
    "    model.load_weights(vgg_pretrain_weights)\n",
    "    \n",
    "    return model"
   ]
  },
  {
   "cell_type": "code",
   "execution_count": 15,
   "metadata": {
    "collapsed": true
   },
   "outputs": [],
   "source": [
    "def vgg19_conv_layers_sequential():\n",
    "    model = Sequential()\n",
    "    \n",
    "    model.add(ZeroPadding2D((1, 1), input_shape=(171, 186, 3)))\n",
    "    model.add(Conv2D(64, (3, 3), activation='relu'))\n",
    "    model.add(ZeroPadding2D((1, 1)))\n",
    "    model.add(Conv2D(64, (3, 3), activation='relu'))\n",
    "\n",
    "    model.add(MaxPooling2D((2, 2), strides = (2, 2)))\n",
    "    model.add(ZeroPadding2D((1, 1)))\n",
    "    model.add(Conv2D(128, (3, 3), activation='relu'))\n",
    "    model.add(ZeroPadding2D((1, 1)))\n",
    "    model.add(Conv2D(128, (3, 3), activation='relu'))\n",
    "    model.add(MaxPooling2D((2, 2), strides = (2, 2)))\n",
    "    \n",
    "    model.add(ZeroPadding2D((1, 1)))\n",
    "    model.add(Conv2D(256, (3, 3), activation='relu'))\n",
    "    model.add(ZeroPadding2D((1, 1)))\n",
    "    model.add(Conv2D(256, (3, 3), activation='relu'))\n",
    "    model.add(ZeroPadding2D((1, 1)))\n",
    "    model.add(Conv2D(256, (3, 3), activation='relu'))\n",
    "    model.add(ZeroPadding2D((1, 1)))\n",
    "    model.add(Conv2D(256, (3, 3), activation='relu'))\n",
    "    model.add(MaxPooling2D((2, 2), strides = (2, 2)))\n",
    "    \n",
    "    model.add(ZeroPadding2D((1, 1)))\n",
    "    model.add(Conv2D(512, (3, 3), activation='relu'))\n",
    "    model.add(ZeroPadding2D((1, 1)))\n",
    "    model.add(Conv2D(512, (3, 3), activation='relu'))\n",
    "    model.add(ZeroPadding2D((1, 1)))\n",
    "    model.add(Conv2D(512, (3, 3), activation='relu'))\n",
    "    model.add(ZeroPadding2D((1, 1)))\n",
    "    model.add(Conv2D(512, (3, 3), activation='relu'))\n",
    "    model.add(MaxPooling2D((2, 2), strides = (2, 2)))\n",
    "    \n",
    "    model.add(ZeroPadding2D((1, 1)))\n",
    "    model.add(Conv2D(512, (3, 3), activation='relu'))\n",
    "    model.add(ZeroPadding2D((1, 1)))\n",
    "    model.add(Conv2D(512, (3, 3), activation='relu'))\n",
    "    model.add(ZeroPadding2D((1, 1)))\n",
    "    model.add(Conv2D(512, (3, 3), activation='relu'))\n",
    "    model.add(ZeroPadding2D((1, 1)))\n",
    "    model.add(Conv2D(512, (3, 3), activation='relu'))\n",
    "    model.add(MaxPooling2D((2, 2), strides = (2, 2)))\n",
    "    \n",
    "    vgg_pretrain_weights = get_file('vgg19_weights_tf_dim_ordering_tf_kernels_notop.h5',\n",
    "                                    \"https://github.com/fchollet/deep-learning-models/releases/download/v0.1/vgg19_weights_tf_dim_ordering_tf_kernels_notop.h5\",\n",
    "                                    cache_subdir='models')\n",
    "    \n",
    "    model.load_weights(vgg_pretrain_weights)\n",
    "    \n",
    "    return model"
   ]
  },
  {
   "cell_type": "code",
   "execution_count": 16,
   "metadata": {},
   "outputs": [],
   "source": [
    "model = vgg19_conv_layers_sequential()\n",
    "model.add(Flatten())\n",
    "model.add(Dense(4096, activation='relu', kernel_initializer='glorot_normal', bias_initializer=keras.initializers.Ones()))\n",
    "model.add(Dropout(0.7))\n",
    "#model.add(BatchNormalization())\n",
    "model.add(Dense(4096, activation='relu', kernel_initializer='glorot_normal', bias_initializer=keras.initializers.Ones()))\n",
    "model.add(Dropout(0.7))\n",
    "#model.add(BatchNormalization())\n",
    "model.add(Dense(104, activation='softmax'))"
   ]
  },
  {
   "cell_type": "code",
   "execution_count": 17,
   "metadata": {},
   "outputs": [],
   "source": [
    "for layer in model.layers:\n",
    "    if type(layer) != Dense:\n",
    "        layer.trainable = False\n",
    "\n",
    "model.compile(Adam(lr=1e-5), loss='categorical_crossentropy', metrics=['accuracy'])"
   ]
  },
  {
   "cell_type": "code",
   "execution_count": null,
   "metadata": {},
   "outputs": [
    {
     "name": "stdout",
     "output_type": "stream",
     "text": [
      "_________________________________________________________________\n",
      "Layer (type)                 Output Shape              Param #   \n",
      "=================================================================\n",
      "zero_padding2d_1 (ZeroPaddin (None, 173, 188, 3)       0         \n",
      "_________________________________________________________________\n",
      "conv2d_1 (Conv2D)            (None, 171, 186, 64)      1792      \n",
      "_________________________________________________________________\n",
      "zero_padding2d_2 (ZeroPaddin (None, 173, 188, 64)      0         \n",
      "_________________________________________________________________\n",
      "conv2d_2 (Conv2D)            (None, 171, 186, 64)      36928     \n",
      "_________________________________________________________________\n",
      "max_pooling2d_1 (MaxPooling2 (None, 85, 93, 64)        0         \n",
      "_________________________________________________________________\n",
      "zero_padding2d_3 (ZeroPaddin (None, 87, 95, 64)        0         \n",
      "_________________________________________________________________\n",
      "conv2d_3 (Conv2D)            (None, 85, 93, 128)       73856     \n",
      "_________________________________________________________________\n",
      "zero_padding2d_4 (ZeroPaddin (None, 87, 95, 128)       0         \n",
      "_________________________________________________________________\n",
      "conv2d_4 (Conv2D)            (None, 85, 93, 128)       147584    \n",
      "_________________________________________________________________\n",
      "max_pooling2d_2 (MaxPooling2 (None, 42, 46, 128)       0         \n",
      "_________________________________________________________________\n",
      "zero_padding2d_5 (ZeroPaddin (None, 44, 48, 128)       0         \n",
      "_________________________________________________________________\n",
      "conv2d_5 (Conv2D)            (None, 42, 46, 256)       295168    \n",
      "_________________________________________________________________\n",
      "zero_padding2d_6 (ZeroPaddin (None, 44, 48, 256)       0         \n",
      "_________________________________________________________________\n",
      "conv2d_6 (Conv2D)            (None, 42, 46, 256)       590080    \n",
      "_________________________________________________________________\n",
      "zero_padding2d_7 (ZeroPaddin (None, 44, 48, 256)       0         \n",
      "_________________________________________________________________\n",
      "conv2d_7 (Conv2D)            (None, 42, 46, 256)       590080    \n",
      "_________________________________________________________________\n",
      "zero_padding2d_8 (ZeroPaddin (None, 44, 48, 256)       0         \n",
      "_________________________________________________________________\n",
      "conv2d_8 (Conv2D)            (None, 42, 46, 256)       590080    \n",
      "_________________________________________________________________\n",
      "max_pooling2d_3 (MaxPooling2 (None, 21, 23, 256)       0         \n",
      "_________________________________________________________________\n",
      "zero_padding2d_9 (ZeroPaddin (None, 23, 25, 256)       0         \n",
      "_________________________________________________________________\n",
      "conv2d_9 (Conv2D)            (None, 21, 23, 512)       1180160   \n",
      "_________________________________________________________________\n",
      "zero_padding2d_10 (ZeroPaddi (None, 23, 25, 512)       0         \n",
      "_________________________________________________________________\n",
      "conv2d_10 (Conv2D)           (None, 21, 23, 512)       2359808   \n",
      "_________________________________________________________________\n",
      "zero_padding2d_11 (ZeroPaddi (None, 23, 25, 512)       0         \n",
      "_________________________________________________________________\n",
      "conv2d_11 (Conv2D)           (None, 21, 23, 512)       2359808   \n",
      "_________________________________________________________________\n",
      "zero_padding2d_12 (ZeroPaddi (None, 23, 25, 512)       0         \n",
      "_________________________________________________________________\n",
      "conv2d_12 (Conv2D)           (None, 21, 23, 512)       2359808   \n",
      "_________________________________________________________________\n",
      "max_pooling2d_4 (MaxPooling2 (None, 10, 11, 512)       0         \n",
      "_________________________________________________________________\n",
      "zero_padding2d_13 (ZeroPaddi (None, 12, 13, 512)       0         \n",
      "_________________________________________________________________\n",
      "conv2d_13 (Conv2D)           (None, 10, 11, 512)       2359808   \n",
      "_________________________________________________________________\n",
      "zero_padding2d_14 (ZeroPaddi (None, 12, 13, 512)       0         \n",
      "_________________________________________________________________\n",
      "conv2d_14 (Conv2D)           (None, 10, 11, 512)       2359808   \n",
      "_________________________________________________________________\n",
      "zero_padding2d_15 (ZeroPaddi (None, 12, 13, 512)       0         \n",
      "_________________________________________________________________\n",
      "conv2d_15 (Conv2D)           (None, 10, 11, 512)       2359808   \n",
      "_________________________________________________________________\n",
      "zero_padding2d_16 (ZeroPaddi (None, 12, 13, 512)       0         \n",
      "_________________________________________________________________\n",
      "conv2d_16 (Conv2D)           (None, 10, 11, 512)       2359808   \n",
      "_________________________________________________________________\n",
      "max_pooling2d_5 (MaxPooling2 (None, 5, 5, 512)         0         \n",
      "_________________________________________________________________\n",
      "flatten_1 (Flatten)          (None, 12800)             0         \n",
      "_________________________________________________________________\n",
      "dense_1 (Dense)              (None, 4096)              52432896  \n",
      "_________________________________________________________________\n",
      "dropout_1 (Dropout)          (None, 4096)              0         \n",
      "_________________________________________________________________\n",
      "dense_2 (Dense)              (None, 4096)              16781312  \n",
      "_________________________________________________________________\n",
      "dropout_2 (Dropout)          (None, 4096)              0         \n",
      "_________________________________________________________________\n",
      "dense_3 (Dense)              (None, 104)               426088    \n",
      "=================================================================\n",
      "Total params: 89,664,680\n",
      "Trainable params: 89,664,680\n",
      "Non-trainable params: 0\n",
      "_________________________________________________________________\n"
     ]
    }
   ],
   "source": [
    "model.summary()"
   ]
  },
  {
   "cell_type": "code",
   "execution_count": null,
   "metadata": {
    "scrolled": true
   },
   "outputs": [
    {
     "name": "stdout",
     "output_type": "stream",
     "text": [
      "Epoch 1/1\n"
     ]
    }
   ],
   "source": [
    "with tf.device('/gpu:0'):\n",
    "    for i in range(5):\n",
    "        #model.fit_generator(female_train, steps_per_epoch = female_train.samples/female_train.batch_size, epochs=1,\n",
    "                    #validation_data=female_valid, validation_steps = female_valid.samples/female_valid.batch_size)\n",
    "        #model.fit_generator(male_train, steps_per_epoch = male_train.samples/male_train.batch_size, epochs=1,\n",
    "                    #validation_data=male_valid, validation_steps = male_valid.samples/male_valid.batch_size)\n",
    "    model.save_weights(path + 'weights_exp6.h5')"
   ]
  },
  {
   "cell_type": "markdown",
   "metadata": {
    "collapsed": true
   },
   "source": [
    "**Experiment 1**\n",
    "- All layers trained\n",
    "- lr = 1e-4\n",
    "- Adam\n",
    "- Dense layers weight initialized \n",
    "- OVERFITTING is apparent\n",
    "- Epochs = 1\n",
    "\n",
    "Total params: 89,664,680\n",
    "\n",
    "Trainable params: 89,664,680\n",
    "\n",
    "Non-trainable params: 0\n",
    "\n",
    "Epoch 1/1\n",
    "\n",
    "379/379 [==============================] - 668s - loss: 5.1517 - acc: 0.0237 - val_loss: 4.7387 - val_acc: 0.0223\n",
    "\n",
    "Epoch 1/1\n",
    "\n",
    "334/334 [==============================] - 578s - loss: 4.1187 - acc: 0.0723 - val_loss: 4.4772 - val_acc: 0.0245"
   ]
  },
  {
   "cell_type": "markdown",
   "metadata": {
    "collapsed": true
   },
   "source": [
    "**Experiment 2**\n",
    "- Motivation: loss function keeps decreasing in Experiment 1, maybe more epochs will increase accuracy?\n",
    "- Dense layers trained\n",
    "- lr = 1e-5\n",
    "- Dense layers weight initialized \n",
    "- alternatively improving values\n",
    "- Overfitting or not is not clear\n",
    "- Epochs = 5\n",
    "\n",
    "=================================================================\n",
    "\n",
    "Total params: 89,664,680\n",
    "\n",
    "Trainable params: 69,640,296\n",
    "\n",
    "Non-trainable params: 20,024,384\n",
    "\n",
    "_________________________________________________________________\n",
    "\n",
    "Epoch 1/1\n",
    "\n",
    "379/379 [==============================] - 240s - loss: 13.6884 - acc: 0.0358 - val_loss: 11.4914 - val_acc: 0.0251\n",
    "\n",
    "Epoch 1/1\n",
    "\n",
    "334/334 [==============================] - 203s - loss: 11.5692 - acc: 0.0666 - val_loss: 9.2627 - val_acc: 0.0127\n",
    "\n",
    "Epoch 1/1\n",
    "\n",
    "379/379 [==============================] - 237s - loss: 8.4670 - acc: 0.1118 - val_loss: 6.3364 - val_acc: 0.0365\n",
    "\n",
    "Epoch 1/1\n",
    "\n",
    "334/334 [==============================] - 204s - loss: 6.4200 - acc: 0.1361 - val_loss: 5.8004 - val_acc: 0.0133\n",
    "\n",
    "Epoch 1/1\n",
    "\n",
    "379/379 [==============================] - 234s - loss: 5.2417 - acc: 0.1739 - val_loss: 5.1995 - val_acc: 0.0289\n",
    "\n",
    "Epoch 1/1\n",
    "\n",
    "334/334 [==============================] - 203s - loss: 4.6242 - acc: 0.1942 - val_loss: 5.1862 - val_acc: 0.0220\n",
    "\n",
    "Epoch 1/1\n",
    "\n",
    "379/379 [==============================] - 234s - loss: 4.0165 - acc: 0.2328 - val_loss: 4.8735 - val_acc: 0.0351\n",
    "\n",
    "Epoch 1/1\n",
    "\n",
    "334/334 [==============================] - 202s - loss: 3.7839 - acc: 0.2412 - val_loss: 5.0708 - val_acc: 0.0202\n",
    "\n",
    "Epoch 1/1\n",
    "\n",
    "379/379 [==============================] - 234s - loss: 3.4204 - acc: 0.2830 - val_loss: 4.7858 - val_acc: 0.0347\n",
    "\n",
    "Epoch 1/1\n",
    "\n",
    "334/334 [==============================] - 202s - loss: 3.2999 - acc: 0.2905 - val_loss: 5.0043 - val_acc: 0.0202\n"
   ]
  },
  {
   "cell_type": "markdown",
   "metadata": {},
   "source": [
    "**Experiment 3**\n",
    "- Will batchnormalization help since theres is no improvement in validation accuracy\n",
    "- Weight initialized dense layers\n",
    "- Only dense layers trainable\n",
    "- Batchnormalized dense layers\n",
    "- Dropout = 0.5\n",
    "- lr = 1e-4\n",
    "- Overfits\n",
    "\n",
    "=================================================================\n",
    "\n",
    "Total params: 89,697,448\n",
    "\n",
    "Trainable params: 69,640,296\n",
    "\n",
    "Non-trainable params: 20,057,152\n",
    "\n",
    "_________________________________________________________________\n",
    "\n",
    "Epoch 1/1\n",
    "\n",
    "379/379 [==============================] - 242s - loss: 5.0252 - acc: 0.0388 - val_loss: 4.4513 - val_acc: 0.0190\n",
    "\n",
    "Epoch 1/1\n",
    "\n",
    "334/334 [==============================] - 205s - loss: 4.5141 - acc: 0.0941 - val_loss: 4.6469 - val_acc: 0.0136\n"
   ]
  },
  {
   "cell_type": "markdown",
   "metadata": {},
   "source": [
    "**Experiment 4**\n",
    "- Motivation: Overfitting in Experiment 3, do more dropout\n",
    "- Weight initialized dense layers\n",
    "- Only dense layers trainable\n",
    "- Batchnormalization with dense layers\n",
    "- Dropout = 0.7\n",
    "- lr = 1e-4\n",
    "- Not much improvement\n",
    "\n",
    "Total params: 89,697,448\n",
    "\n",
    "Trainable params: 69,640,296\n",
    "\n",
    "Non-trainable params: 20,057,152\n",
    "\n",
    "Epoch 1/1\n",
    "\n",
    "379/379 [==============================] - 240s - loss: 5.4357 - acc: 0.0119 - val_loss: 4.5188 - val_acc: 0.0255\n",
    "\n",
    "Epoch 1/1\n",
    "\n",
    "334/334 [==============================] - 204s - loss: 5.2047 - acc: 0.0261 - val_loss: 4.5505 - val_acc: 0.0127\n",
    "\n"
   ]
  },
  {
   "cell_type": "markdown",
   "metadata": {},
   "source": [
    "**Experiment 5**\n",
    "- Motivation: Loss keeps decreasing in Experiment 4, do more number of epochs\n",
    "- Weight initialized dense layers\n",
    "- Only dense layers trainable\n",
    "- Batchnormalization with dense layers\n",
    "- Dropout = 0.7\n",
    "- lr = 1e-4\n",
    "- Validation loss is not stable across epochs\n",
    "Total params: 89,697,448\n",
    "\n",
    "Trainable params: 69,640,296\n",
    "\n",
    "Non-trainable params: 20,057,152\n",
    "\n",
    "_________________________________________________________________\n",
    "\n",
    "Epoch 1/1\n",
    "\n",
    "379/379 [==============================] - 240s - loss: 5.4000 - acc: 0.0125 - val_loss: 4.4933 - val_acc: 0.0381\n",
    "\n",
    "Epoch 1/1\n",
    "\n",
    "334/334 [==============================] - 205s - loss: 5.2335 - acc: 0.0199 - val_loss: 4.5120 - val_acc: 0.0213\n",
    "\n",
    "Epoch 1/1\n",
    "\n",
    "379/379 [==============================] - 239s - loss: 4.8773 - acc: 0.0416 - val_loss: 4.4056 - val_acc: 0.0206\n",
    "\n",
    "Epoch 1/1\n",
    "\n",
    "334/334 [==============================] - 205s - loss: 4.7485 - acc: 0.0563 - val_loss: 4.4966 - val_acc: 0.0138\n",
    "\n",
    "Epoch 1/1\n",
    "\n",
    "379/379 [==============================] - 236s - loss: 4.4608 - acc: 0.0814 - val_loss: 4.3931 - val_acc: 0.0184\n",
    "\n",
    "Epoch 1/1\n",
    "\n",
    "334/334 [==============================] - 204s - loss: 4.3454 - acc: 0.1029 - val_loss: 4.5639 - val_acc: 0.0119\n",
    "\n",
    "Epoch 1/1\n",
    "\n",
    "379/379 [==============================] - 236s - loss: 4.1044 - acc: 0.1265 - val_loss: 4.4471 - val_acc: 0.0217\n",
    "\n",
    "Epoch 1/1\n",
    "\n",
    "334/334 [==============================] - 204s - loss: 4.0820 - acc: 0.1358 - val_loss: 4.6092 - val_acc: 0.0133\n",
    "\n",
    "Epoch 1/1\n",
    "\n",
    "379/379 [==============================] - 236s - loss: 3.8478 - acc: 0.1620 - val_loss: 4.4567 - val_acc: 0.0231\n",
    "\n",
    "Epoch 1/1\n",
    "\n",
    "334/334 [==============================] - 204s - loss: 3.9038 - acc: 0.1616 - val_loss: 4.6779 - val_acc: 0.0119\n"
   ]
  },
  {
   "cell_type": "markdown",
   "metadata": {},
   "source": [
    "**Experiment 6**\n",
    "- Use mixiterator to mix and shuffle training examples (males and females)"
   ]
  },
  {
   "cell_type": "code",
   "execution_count": null,
   "metadata": {
    "collapsed": true
   },
   "outputs": [],
   "source": []
  }
 ],
 "metadata": {
  "kernelspec": {
   "display_name": "Python 2",
   "language": "python",
   "name": "python2"
  },
  "language_info": {
   "codemirror_mode": {
    "name": "ipython",
    "version": 2
   },
   "file_extension": ".py",
   "mimetype": "text/x-python",
   "name": "python",
   "nbconvert_exporter": "python",
   "pygments_lexer": "ipython2",
   "version": "2.7.13"
  }
 },
 "nbformat": 4,
 "nbformat_minor": 2
}
